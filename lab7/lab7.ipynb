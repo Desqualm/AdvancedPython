{
  "nbformat": 4,
  "nbformat_minor": 0,
  "metadata": {
    "colab": {
      "provenance": []
    },
    "kernelspec": {
      "name": "python3",
      "display_name": "Python 3"
    },
    "language_info": {
      "name": "python"
    }
  },
  "cells": [
    {
      "cell_type": "code",
      "execution_count": 8,
      "metadata": {
        "colab": {
          "base_uri": "https://localhost:8080/"
        },
        "id": "__IqRa2NRSKF",
        "outputId": "9d06e07c-c766-46e8-b51d-3c16e9d6de76"
      },
      "outputs": [
        {
          "output_type": "stream",
          "name": "stdout",
          "text": [
            "Zadanie 1: 11\n"
          ]
        }
      ],
      "source": [
        "# Zadanie 1: Zliczanie samogłosek z użyciem reduce i lambda\n",
        "from functools import reduce\n",
        "from operator import mul\n",
        "import itertools\n",
        "\n",
        "tekst = \"Zliczamy samogłoski w tym zdaniu\"\n",
        "samogloski = 'aeiouyąęóAEIOUYĄĘÓ'\n",
        "zlicz = lambda t: reduce(lambda acc, ch: acc + (1 if ch in samogloski else 0), t, 0)\n",
        "print(\"Zadanie 1:\", zlicz(tekst))"
      ]
    },
    {
      "cell_type": "code",
      "source": [
        "# Zadanie 2: Sortowanie krotek po wartości punktowej\n",
        "dane = [('Adam', 'Nowak', '13 pkt'), ('Anna', 'Górka', '15 pkt'), ('Wojtek', 'Bonk', '8 pkt')]\n",
        "posortowane = sorted(dane, key=lambda x: int(x[2].split()[0]), reverse=True)\n",
        "print(\"Zadanie 2:\", posortowane)"
      ],
      "metadata": {
        "colab": {
          "base_uri": "https://localhost:8080/"
        },
        "id": "nhn9TMAfRXpQ",
        "outputId": "6cb91671-713f-4024-e52e-dc52aefb29a7"
      },
      "execution_count": 9,
      "outputs": [
        {
          "output_type": "stream",
          "name": "stdout",
          "text": [
            "Zadanie 2: [('Anna', 'Górka', '15 pkt'), ('Adam', 'Nowak', '13 pkt'), ('Wojtek', 'Bonk', '8 pkt')]\n"
          ]
        }
      ]
    },
    {
      "cell_type": "code",
      "source": [
        "# Zadanie 3: Iloczyn pierwszych 10 liczb Fibonacciego z użyciem lambda, reduce i operator.mul\n",
        "fib = lambda n: reduce(lambda x, _: x + [x[-1] + x[-2]], range(n - 2), [0, 1])\n",
        "pierwsze_10 = fib(10)\n",
        "iloczyn = reduce(mul, pierwsze_10[1:])\n",
        "print(\"Zadanie 3:\", iloczyn)"
      ],
      "metadata": {
        "colab": {
          "base_uri": "https://localhost:8080/"
        },
        "id": "VHCvqDRjRZwQ",
        "outputId": "38905444-4177-4957-c04e-9d9340e35b5d"
      },
      "execution_count": 10,
      "outputs": [
        {
          "output_type": "stream",
          "name": "stdout",
          "text": [
            "Zadanie 3: 2227680\n"
          ]
        }
      ]
    },
    {
      "cell_type": "code",
      "source": [
        "# Zadanie 4: Zwróć dzień tygodnia za n dni, zaczynając od zadanego dnia\n",
        "def jaki_dzien(start_dzien, n):\n",
        "    dni = ['poniedziałek', 'wtorek', 'środa', 'czwartek', 'piątek', 'sobota', 'niedziela']\n",
        "    day_cycle = itertools.cycle(dni)\n",
        "    while next(day_cycle) != start_dzien:\n",
        "        pass\n",
        "    for _ in range(n):\n",
        "        next_day = next(day_cycle)\n",
        "    return next_day\n",
        "\n",
        "print(\"Zadanie 4:\", jaki_dzien('wtorek', 3))"
      ],
      "metadata": {
        "colab": {
          "base_uri": "https://localhost:8080/"
        },
        "id": "FaJHOjN-RbZQ",
        "outputId": "e03643a4-d310-49ef-e9d2-b4d3bed8ea74"
      },
      "execution_count": 11,
      "outputs": [
        {
          "output_type": "stream",
          "name": "stdout",
          "text": [
            "Zadanie 4: piątek\n"
          ]
        }
      ]
    },
    {
      "cell_type": "code",
      "source": [
        "# Zadanie 5: Permutacje 'ABCD' długości 2 jako stringi\n",
        "perm = list(itertools.permutations('ABCD', 2))\n",
        "perm_string = list(map(lambda x: ''.join(x), perm))\n",
        "print(\"Zadanie 5:\", perm_string)"
      ],
      "metadata": {
        "colab": {
          "base_uri": "https://localhost:8080/"
        },
        "id": "OvX1bIVpRd1g",
        "outputId": "876b3bdd-eb02-4f4a-b75d-0cb129e8e92a"
      },
      "execution_count": 12,
      "outputs": [
        {
          "output_type": "stream",
          "name": "stdout",
          "text": [
            "Zadanie 5: ['AB', 'AC', 'AD', 'BA', 'BC', 'BD', 'CA', 'CB', 'CD', 'DA', 'DB', 'DC']\n"
          ]
        }
      ]
    },
    {
      "cell_type": "code",
      "source": [
        "# Zadanie 6: Ile jest kombinacji rozmienienia 100 zł\n",
        "count = 0\n",
        "for dwudziestki in range(5):      # 0–4\n",
        "    for dziesiatki in range(4):   # 0–3\n",
        "        for piecdziesiatki in range(3):  # 0–2\n",
        "            for piatki in range(3):      # 0–2\n",
        "                suma = 20*dwudziestki + 10*dziesiatki + 50*piecdziesiatki + 5*piatki\n",
        "                if suma == 100:\n",
        "                    count += 1\n",
        "\n",
        "print(\"Zadanie 6:\", count)"
      ],
      "metadata": {
        "colab": {
          "base_uri": "https://localhost:8080/"
        },
        "id": "1NQlUY1xRgNR",
        "outputId": "80a635d5-b6a9-4803-ba1e-c021301cec54"
      },
      "execution_count": 13,
      "outputs": [
        {
          "output_type": "stream",
          "name": "stdout",
          "text": [
            "Zadanie 6: 8\n"
          ]
        }
      ]
    },
    {
      "cell_type": "code",
      "source": [
        "# Zadanie 7: Starmap z funkcją format()\n",
        "dane_format = [(123.4567, '.2f'), (42, 'b'), (255, 'x'), (7.5, '%')]\n",
        "wynik_formatowania = list(itertools.starmap(format, dane_format))\n",
        "print(\"Zadanie 7:\", wynik_formatowania)"
      ],
      "metadata": {
        "colab": {
          "base_uri": "https://localhost:8080/"
        },
        "id": "q1IGJrKyRihR",
        "outputId": "916a1a76-2fbb-4a59-b69e-19a89a79040a"
      },
      "execution_count": 14,
      "outputs": [
        {
          "output_type": "stream",
          "name": "stdout",
          "text": [
            "Zadanie 7: ['123.46', '101010', 'ff', '750.000000%']\n"
          ]
        }
      ]
    }
  ]
}